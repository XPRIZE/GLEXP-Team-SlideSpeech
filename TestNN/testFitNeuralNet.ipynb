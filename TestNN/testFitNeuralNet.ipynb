{
 "cells": [
  {
   "cell_type": "code",
   "execution_count": 21,
   "metadata": {
    "collapsed": false
   },
   "outputs": [],
   "source": [
    "%matplotlib inline"
   ]
  },
  {
   "cell_type": "code",
   "execution_count": 142,
   "metadata": {
    "collapsed": false
   },
   "outputs": [],
   "source": [
    "import matplotlib.pyplot as plt\n",
    "import matplotlib.image as mpimg\n",
    "import numpy as np\n",
    "import numpy.random as random\n",
    "import os\n",
    "import Image\n",
    "import codecs, json"
   ]
  },
  {
   "cell_type": "markdown",
   "metadata": {},
   "source": [
    "# <font color='green'>Load the data needed to fit the neural net</font>"
   ]
  },
  {
   "cell_type": "markdown",
   "metadata": {},
   "source": [
    "### Get the names of the files and letters saved by the lettersketch app"
   ]
  },
  {
   "cell_type": "code",
   "execution_count": 17,
   "metadata": {
    "collapsed": false
   },
   "outputs": [],
   "source": [
    "dirName = \"../lettersketch/assets/train_images/UpperCase/StraightLines/\"\n",
    "fileNames = []\n",
    "fileLetters = []\n",
    "for fileName in os.listdir(dirName):\n",
    "    if fileName.endswith(\".png\") and (not \"__\" in fileName):\n",
    "       fileNames.append(dirName+fileName)\n",
    "       letter = fileName.split(\"_\")[1]\n",
    "       fileLetters.append(letter)\n",
    "    \n",
    "#print fileNames"
   ]
  },
  {
   "cell_type": "markdown",
   "metadata": {},
   "source": [
    "### Read in the letters saved by the lettersketch app after converting into grayscale and resizing"
   ]
  },
  {
   "cell_type": "code",
   "execution_count": 74,
   "metadata": {
    "collapsed": false
   },
   "outputs": [
    {
     "name": "stdout",
     "output_type": "stream",
     "text": [
      "(61, 28, 28)\n"
     ]
    }
   ],
   "source": [
    "#def rgb2gray(rgb):\n",
    "#    return np.dot(rgb[...,:3], [0.299, 0.587, 0.144])\n",
    "#\n",
    "#data = np.array([rgb2gray(mpimg.imread(fileName)) for fileName in fileNames], dtype = np.float64)\n",
    "#data.shape\n",
    "\n",
    "data = np.array([np.asarray(Image.open(fileName).convert('L').resize((28, 28), Image.NEAREST)) \n",
    "                 for fileName in fileNames], dtype = np.float64)\n",
    "print data.shape"
   ]
  },
  {
   "cell_type": "markdown",
   "metadata": {},
   "source": [
    "### Reshape the image arrays"
   ]
  },
  {
   "cell_type": "code",
   "execution_count": 75,
   "metadata": {
    "collapsed": false
   },
   "outputs": [
    {
     "name": "stdout",
     "output_type": "stream",
     "text": [
      "(61, 784)\n"
     ]
    }
   ],
   "source": [
    "data = data.reshape(data.shape[0], data.shape[1]*data.shape[2])\n",
    "print data.shape"
   ]
  },
  {
   "cell_type": "markdown",
   "metadata": {},
   "source": [
    "### Convert white into black background"
   ]
  },
  {
   "cell_type": "code",
   "execution_count": 76,
   "metadata": {
    "collapsed": false
   },
   "outputs": [],
   "source": [
    "for dt in np.nditer(data, op_flags=['readwrite']):\n",
    "    dt[...] = dt/255.0\n",
    "    if (dt == 1.0):\n",
    "        dt[...] = 0.0"
   ]
  },
  {
   "cell_type": "markdown",
   "metadata": {},
   "source": [
    "### Load the test data, Convert white into black background, Reshape the data, and Plot a sample"
   ]
  },
  {
   "cell_type": "code",
   "execution_count": 79,
   "metadata": {
    "collapsed": false
   },
   "outputs": [
    {
     "name": "stdout",
     "output_type": "stream",
     "text": [
      "(65, 28, 28)\n",
      "(65, 784)\n"
     ]
    }
   ],
   "source": [
    "testDirName = \"../lettersketch/assets/test_images/\"\n",
    "testNames = []\n",
    "for fileName in os.listdir(testDirName):\n",
    "    if fileName.endswith(\".png\") and (\"__\" in fileName):\n",
    "       testNames.append(testDirName+fileName)\n",
    "\n",
    "testData = np.array([np.asarray(Image.open(fileName).convert('L').resize((28, 28), Image.NEAREST)) \n",
    "                 for fileName in testNames], dtype = np.float64)\n",
    "print testData.shape\n",
    "\n",
    "testData = testData.reshape(testData.shape[0], testData.shape[1]*testData.shape[2])\n",
    "print testData.shape\n",
    "\n",
    "for dt in np.nditer(testData, op_flags=['readwrite']):\n",
    "    dt[...] = dt/255.0\n",
    "    if (dt == 1.0):\n",
    "        dt[...] = 0.0"
   ]
  },
  {
   "cell_type": "code",
   "execution_count": 77,
   "metadata": {
    "collapsed": false
   },
   "outputs": [
    {
     "data": {
      "image/png": "[encoded data removed]",
      "text/plain": [
       "<matplotlib.figure.Figure at 0x7f18eb10f850>"
      ]
     },
     "metadata": {},
     "output_type": "display_data"
    }
   ],
   "source": [
    "imgplot = plt.imshow(data[9].reshape(28,28), cmap=\"gray\")"
   ]
  },
  {
   "cell_type": "code",
   "execution_count": 80,
   "metadata": {
    "collapsed": false
   },
   "outputs": [
    {
     "data": {
      "image/png": "[encoded data removed]",
      "text/plain": [
       "<matplotlib.figure.Figure at 0x7f18eaeaca10>"
      ]
     },
     "metadata": {},
     "output_type": "display_data"
    }
   ],
   "source": [
    "testplot = plt.imshow(testData[1].reshape(28,28), cmap =\"gray\")"
   ]
  },
  {
   "cell_type": "markdown",
   "metadata": {},
   "source": [
    "### Create a label dictionary for the letters in the training set"
   ]
  },
  {
   "cell_type": "code",
   "execution_count": 61,
   "metadata": {
    "collapsed": false
   },
   "outputs": [
    {
     "name": "stdout",
     "output_type": "stream",
     "text": [
      "['E', 'L', 'L', 'F', 'F', 'H', 'F', 'H', 'F', 'F', 'I', 'F', 'L', 'E', 'H', 'F', 'L', 'I', 'F', 'L', 'L', 'E', 'F', 'H', 'T', 'F', 'I', 'I', 'L', 'H', 'I', 'T', 'I', 'T', 'L', 'L', 'H', 'I', 'E', 'E', 'I', 'I', 'T', 'T', 'F', 'H', 'T', 'E', 'H', 'E', 'F', 'E', 'L', 'F', 'E', 'T', 'F', 'L', 'H', 'T', 'T']\n"
     ]
    }
   ],
   "source": [
    "labelDict = {'E':0, 'F':1, 'H':2, 'I':3, 'L':4, 'T':5}\n",
    "print fileLetters"
   ]
  },
  {
   "cell_type": "markdown",
   "metadata": {},
   "source": [
    "### Assign labels to the images in the training set"
   ]
  },
  {
   "cell_type": "code",
   "execution_count": 62,
   "metadata": {
    "collapsed": false
   },
   "outputs": [
    {
     "name": "stdout",
     "output_type": "stream",
     "text": [
      "[0, 4, 4, 1, 1, 2, 1, 2, 1, 1, 3, 1, 4, 0, 2, 1, 4, 3, 1, 4, 4, 0, 1, 2, 5, 1, 3, 3, 4, 2, 3, 5, 3, 5, 4, 4, 2, 3, 0, 0, 3, 3, 5, 5, 1, 2, 5, 0, 2, 0, 1, 0, 4, 1, 0, 5, 1, 4, 2, 5, 5]\n"
     ]
    }
   ],
   "source": [
    "fileLabels = [labelDict[letter] for letter in fileLetters]\n",
    "print fileLabels"
   ]
  },
  {
   "cell_type": "markdown",
   "metadata": {},
   "source": [
    "### Vectorize the labels"
   ]
  },
  {
   "cell_type": "code",
   "execution_count": 63,
   "metadata": {
    "collapsed": false
   },
   "outputs": [
    {
     "name": "stdout",
     "output_type": "stream",
     "text": [
      "[ 1.  0.  0.  0.  0.  0.]\n"
     ]
    }
   ],
   "source": [
    "def vectorizeLabels(label):\n",
    "    vector = np.zeros((6))\n",
    "    vector[label] = 1.0\n",
    "    return vector\n",
    "\n",
    "dataLabels = np.array([vectorizeLabels(label) for label in fileLabels])\n",
    "print dataLabels[0]"
   ]
  },
  {
   "cell_type": "markdown",
   "metadata": {},
   "source": [
    "### Join data and data labels"
   ]
  },
  {
   "cell_type": "code",
   "execution_count": 92,
   "metadata": {
    "collapsed": false
   },
   "outputs": [
    {
     "name": "stdout",
     "output_type": "stream",
     "text": [
      "(61, 784)\n",
      "(61, 6)\n"
     ]
    }
   ],
   "source": [
    "print data.shape\n",
    "print dataLabels.shape\n",
    "training_data = zip(data, dataLabels)\n",
    "#print training_data[0]"
   ]
  },
  {
   "cell_type": "code",
   "execution_count": 67,
   "metadata": {
    "collapsed": false
   },
   "outputs": [],
   "source": [
    "%load nnutils.py"
   ]
  },
  {
   "cell_type": "markdown",
   "metadata": {
    "collapsed": false
   },
   "source": [
    "# <font color='green'>Utilities for working with a standard neural net</font>"
   ]
  },
  {
   "cell_type": "code",
   "execution_count": 94,
   "metadata": {
    "collapsed": true
   },
   "outputs": [],
   "source": [
    "#---------------------------------------------------\n",
    "# A neural net class\n",
    "#---------------------------------------------------\n",
    "class NeuralNet(object):\n",
    "\n",
    "  \"\"\" Constructor\n",
    "  #   layers: vector of length numLayers containing the\n",
    "  #          the number of neurons in each layer\n",
    "  #           e.g., layers = (4, 3, 2) -> 4 input values, 3 neurons in hidden layer, 2 output values\n",
    "  #   biases: initialized with random numbers except for first layer\n",
    "  #           e.g., biases = [ [b11, b21, b31]^T, \n",
    "  #                            [b12, b22]^T ]\n",
    "  #   weights: initialized with random numbers \n",
    "  #           e.g., [ [[w111, w121, w131, w141], \n",
    "  #                    [w211, w221, w231, w241],\n",
    "  #                    [w311, w321, w331, w341]],\n",
    "  #                   [[w112, w122, w132],\n",
    "  #                    [w212, w222, w232]] ]\n",
    "  \"\"\"\n",
    "  def __init__(self, layers):\n",
    "\n",
    "    self.numLayers = len(layers)\n",
    "    self.numNeurons = layers\n",
    "    self.biases = [random.randn(layer, 1) for layer in layers[1:]]\n",
    "    self.weights = [random.randn(layer2, layer1) \n",
    "                    for layer1, layer2 in zip(layers[:-1], layers[1:])]\n",
    "    \n",
    "\n",
    "  \"\"\" Batch stochastic gradient descent to find minimum of objective function\n",
    "  #   training_data:  [(x1,y1),(x2,y2),....]\n",
    "  #                   where x1, x2, x3, ... are input data vectors\n",
    "  #                         y1, y2, y3, ... are labels\n",
    "  #   max_iterations: number of iterations\n",
    "  #   batch_size:     size of training batch\n",
    "  #   learning_rate:  gradient descent parameter \n",
    "  \"\"\"\n",
    "  def batchStochasticGradientDescent(self, training_data, max_iterations, batch_size,\n",
    "                                     learning_rate):\n",
    "\n",
    "    # Get the number of training images\n",
    "    nTrain = len(training_data)\n",
    "\n",
    "    # Loop thru iterations\n",
    "    for it in xrange(max_iterations):\n",
    "\n",
    "      # Shuffle the training data\n",
    "      random.shuffle(training_data)\n",
    "\n",
    "      # Choose subsets of the training data\n",
    "      batches = [ training_data[start:start+batch_size]\n",
    "                  for start in xrange(0, nTrain, batch_size) ]\n",
    "\n",
    "      # Loop thru subsets\n",
    "      for batch in batches:\n",
    "        self.updateBatch(batch, learning_rate)\n",
    "      \n",
    "      #print \"Iteration {0} complete\".format(it)\n",
    "        \n",
    "    #print \"weights = \", self.weights\n",
    "    #print \"biases = \", self.biases\n",
    "\n",
    "  \"\"\" Partial update of weights and biases using gradient descent\n",
    "  #   with back propagation\n",
    "  \"\"\"\n",
    "  def updateBatch(self, batch, learning_rate): \n",
    "\n",
    "    # Initialize gradC_w and gradC_b\n",
    "    gradC_w = [np.zeros(w.shape) for w in self.weights]\n",
    "    gradC_b = [np.zeros(b.shape) for b in self.biases]\n",
    "    \n",
    "    # Loop through samples in the batch\n",
    "    for xx, yy in batch:\n",
    "    \n",
    "      # Compute correction to weights & biases using forward and backprop\n",
    "      delta_gradC_w, delta_gradC_b = self.updateGradient(xx, yy)\n",
    "\n",
    "      # Update the gradients\n",
    "      gradC_w = [grad + delta_grad for grad, delta_grad in zip(gradC_w, delta_gradC_w)]\n",
    "      gradC_b = [grad + delta_grad for grad, delta_grad in zip(gradC_b, delta_gradC_b)]\n",
    "\n",
    "    # Update the weight and biases\n",
    "    self.weights = [ weight - (learning_rate/len(batch))*grad\n",
    "                     for weight, grad in zip(self.weights, gradC_w) ]\n",
    "    self.biases  = [ bias - (learning_rate/len(batch))*grad\n",
    "                     for bias, grad in zip(self.biases, gradC_b) ]\n",
    "\n",
    "  # Forward and then backpropagation to compute the gradient of the objective function\n",
    "  def updateGradient(self, xx, yy):\n",
    "\n",
    "    # Reshape into column vectors\n",
    "    xx = np.reshape(xx, (len(xx), 1))\n",
    "    yy = np.reshape(yy, (len(yy), 1))\n",
    "    \n",
    "    # Initialize gradC_w and gradC_b\n",
    "    gradC_w = [np.zeros(w.shape) for w in self.weights]\n",
    "    gradC_b = [np.zeros(b.shape) for b in self.biases]\n",
    "\n",
    "    # Compute forward pass through net\n",
    "    # Initial activation value = input value\n",
    "    activationValue = xx\n",
    "    activationValues = [xx]\n",
    "    layerOutputValues = []\n",
    "    \n",
    "    # Loop through layers\n",
    "    for weight, bias in zip(self.weights, self.biases):\n",
    "\n",
    "      #print weight.shape\n",
    "      #print activationValue.shape\n",
    "      layerOutputValue = np.dot(weight, activationValue) + bias\n",
    "      layerOutputValues.append(layerOutputValue)\n",
    "\n",
    "      activationValue = self.activationFunction(layerOutputValue)\n",
    "      activationValues.append(activationValue)\n",
    "      \n",
    "    # Compute backpropagation corrections\n",
    "    # Initial deltas\n",
    "    delta = self.derivOfCostFunction(activationValues[-1], yy) * self.derivActivationFunction(layerOutputValues[-1])\n",
    "\n",
    "    gradC_b[-1] = delta\n",
    "    gradC_w[-1] = np.dot(delta, activationValues[-2].transpose())\n",
    "\n",
    "    # Loop backward thru layers\n",
    "    for layer in xrange(2, self.numLayers):\n",
    "\n",
    "      layerOutputValue = layerOutputValues[-layer]\n",
    "      derivActivation = self.derivActivationFunction(layerOutputValue)\n",
    "  \n",
    "      delta = np.dot(self.weights[-layer + 1].transpose(), delta)*derivActivation\n",
    "\n",
    "      gradC_b[-layer] = delta\n",
    "      gradC_w[-layer] = np.dot(delta, activationValues[-layer-1].transpose())\n",
    "    \n",
    "    # Return updated gradients\n",
    "    return(gradC_w, gradC_b)\n",
    "\n",
    "  # The activation function\n",
    "  def activationFunction(self, xx):\n",
    "\n",
    "    return 1.0/(1.0 + np.exp(-xx))\n",
    "\n",
    "  # Derivative of activation function\n",
    "  def derivActivationFunction(self, xx):\n",
    "\n",
    "    return self.activationFunction(xx)*(1.0 - self.activationFunction(xx))\n",
    "  \n",
    "  # Derivative of the cost function with respect to output values\n",
    "  def derivOfCostFunction(self, xx, yy):\n",
    "    return (xx - yy)\n",
    "\n",
    "  # The feedforward output computation for the network\n",
    "  #   inputVector: (n, 1) array\n",
    "  #                n = number of inputs to network\n",
    "  #   outputVector: ????\n",
    "  def forwardCompute(self, inputVector):\n",
    "\n",
    "    for bias, weight in zip(self.biases, self.weights):\n",
    "      xx = np.dot(weight, inputVector) + bias\n",
    "      inputVector = self.activationFunction(xx)\n",
    "\n",
    "    return inputVector\n",
    "  "
   ]
  },
  {
   "cell_type": "code",
   "execution_count": 84,
   "metadata": {
    "collapsed": false
   },
   "outputs": [],
   "source": [
    "net = NeuralNet([4, 3, 2])"
   ]
  },
  {
   "cell_type": "code",
   "execution_count": 85,
   "metadata": {
    "collapsed": false
   },
   "outputs": [
    {
     "data": {
      "text/plain": [
       "[array([[-0.61807134,  0.5075986 ,  1.2595124 , -1.68576854],\n",
       "        [-0.43087751,  0.75500013, -2.12123295,  0.94741883],\n",
       "        [-0.60426656,  2.13093427,  1.02693772,  1.80040825]]),\n",
       " array([[ 0.03245494,  0.40785028,  0.12194416],\n",
       "        [-0.42398392,  0.17104154, -1.25100685]])]"
      ]
     },
     "execution_count": 85,
     "metadata": {},
     "output_type": "execute_result"
    }
   ],
   "source": [
    "net.weights"
   ]
  },
  {
   "cell_type": "code",
   "execution_count": 86,
   "metadata": {
    "collapsed": false
   },
   "outputs": [
    {
     "data": {
      "text/plain": [
       "[array([[-1.64218477],\n",
       "        [-0.19587061],\n",
       "        [-0.67338008]]), array([[ 0.46421977],\n",
       "        [-0.70869281]])]"
      ]
     },
     "execution_count": 86,
     "metadata": {},
     "output_type": "execute_result"
    }
   ],
   "source": [
    "net.biases"
   ]
  },
  {
   "cell_type": "markdown",
   "metadata": {},
   "source": [
    "# <font color='green'>Fit the neural net to the input data</font>"
   ]
  },
  {
   "cell_type": "code",
   "execution_count": 95,
   "metadata": {
    "collapsed": false
   },
   "outputs": [],
   "source": [
    "testNN = NeuralNet([28*28, 49, 16, 6])\n",
    "max_iterations = 100\n",
    "batch_size = 1\n",
    "learning_rate = 0.01\n",
    "testNN.batchStochasticGradientDescent(training_data, max_iterations, batch_size,\n",
    "                                     learning_rate)"
   ]
  },
  {
   "cell_type": "markdown",
   "metadata": {},
   "source": [
    "### Save the weights and biases in JSON"
   ]
  },
  {
   "cell_type": "code",
   "execution_count": 151,
   "metadata": {
    "collapsed": false
   },
   "outputs": [
    {
     "name": "stdout",
     "output_type": "stream",
     "text": [
      "(49, 784)\n",
      "(16, 49)\n",
      "(6, 16)\n",
      "(49, 1)\n",
      "(16, 1)\n",
      "(6, 1)\n"
     ]
    }
   ],
   "source": [
    "weightsList = testNN.weights\n",
    "for weights in weightsList:\n",
    "    print weights.shape\n",
    "    \n",
    "biasesList = testNN.biases\n",
    "for biases in biasesList:\n",
    "    print biases.shape"
   ]
  },
  {
   "cell_type": "code",
   "execution_count": 153,
   "metadata": {
    "collapsed": false
   },
   "outputs": [],
   "source": [
    "\n",
    "weightsFileName = \"../lettersketch/assets/json/UpperCase_StraightLines_weights.json\"\n",
    "biasesFileName = \"../lettersketch/assets/json/UpperCase_StraightLines_biases.json\"\n",
    "for weights in weightsList:\n",
    "  json.dump(weights.tolist(), codecs.open(weightsFileName, 'a', encoding='utf-8'),\n",
    "    separators=(',', ':'), sort_keys=True, indent=2)\n",
    "\n",
    "for biases in biasesList:\n",
    "  json.dump(biases.tolist(), codecs.open(biasesFileName, 'a', encoding='utf-8'),\n",
    "    separators=(',', ':'), sort_keys=True, indent=2)"
   ]
  },
  {
   "cell_type": "markdown",
   "metadata": {},
   "source": [
    "# <font color='green'>Test how well the model is performing</font>"
   ]
  },
  {
   "cell_type": "code",
   "execution_count": 131,
   "metadata": {
    "collapsed": false
   },
   "outputs": [
    {
     "data": {
      "image/png": "[encoded data removed]",
      "text/plain": [
       "<matplotlib.figure.Figure at 0x7f18e75e8b90>"
      ]
     },
     "metadata": {},
     "output_type": "display_data"
    }
   ],
   "source": [
    "fig = plt.figure()\n",
    "\n",
    "num_image_rows = np.ceil(np.sqrt(testData.shape[0]))\n",
    "for i in range(0, testData.shape[0]):\n",
    "  a = fig.add_subplot(num_image_rows/2, num_image_rows*2, i+1)\n",
    "  a.set_title(i)\n",
    "  testplot = plt.imshow(testData[i].reshape(28,28), cmap =\"gray\")\n",
    "  plt.axis('off')"
   ]
  },
  {
   "cell_type": "code",
   "execution_count": 141,
   "metadata": {
    "collapsed": false
   },
   "outputs": [
    {
     "name": "stdout",
     "output_type": "stream",
     "text": [
      "1\n",
      "F\n"
     ]
    }
   ],
   "source": [
    "result = testNN.forwardCompute(np.reshape(testData[60], (28*28,1)))\n",
    "letterIndex = np.argmax(result)\n",
    "print letterIndex\n",
    "print labelDict.keys()[labelDict.values().index(letterIndex)]"
   ]
  },
  {
   "cell_type": "code",
   "execution_count": null,
   "metadata": {
    "collapsed": true
   },
   "outputs": [],
   "source": []
  }
 ],
 "metadata": {
  "kernelspec": {
   "display_name": "Python 2",
   "language": "python",
   "name": "python2"
  },
  "language_info": {
   "codemirror_mode": {
    "name": "ipython",
    "version": 2
   },
   "file_extension": ".py",
   "mimetype": "text/x-python",
   "name": "python",
   "nbconvert_exporter": "python",
   "pygments_lexer": "ipython2",
   "version": "2.7.6"
  }
 },
 "nbformat": 4,
 "nbformat_minor": 0
}

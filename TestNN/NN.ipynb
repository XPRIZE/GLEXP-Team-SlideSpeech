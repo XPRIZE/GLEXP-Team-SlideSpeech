{
 "metadata": {
  "name": ""
 },
 "nbformat": 3,
 "nbformat_minor": 0,
 "worksheets": [
  {
   "cells": [
    {
     "cell_type": "code",
     "collapsed": false,
     "input": [
      "%matplotlib inline"
     ],
     "language": "python",
     "metadata": {},
     "outputs": [],
     "prompt_number": 1
    },
    {
     "cell_type": "code",
     "collapsed": false,
     "input": [
      "import matplotlib.pyplot as plt\n",
      "import matplotlib.image as mpimg\n",
      "import numpy as np\n",
      "import os"
     ],
     "language": "python",
     "metadata": {},
     "outputs": [],
     "prompt_number": 4
    },
    {
     "cell_type": "code",
     "collapsed": false,
     "input": [
      "dirName = \"../lettersketch/assets/train_images/\"\n",
      "fileNames = []\n",
      "fileLetters = []\n",
      "for fileName in os.listdir(dirName):\n",
      "    if fileName.endswith(\".png\") and (not \"__\" in fileName):\n",
      "       fileNames.append(dirName+fileName)\n",
      "       letter = fileName.split(\"_\")[1]\n",
      "       fileLetters.append(letter)"
     ],
     "language": "python",
     "metadata": {},
     "outputs": [],
     "prompt_number": 20
    },
    {
     "cell_type": "code",
     "collapsed": false,
     "input": [
      "data = np.array([mpimg.imread(fileName) for fileName in fileNames], dtype = np.float64)\n",
      "data.shape"
     ],
     "language": "python",
     "metadata": {},
     "outputs": [],
     "prompt_number": 21
    },
    {
     "cell_type": "code",
     "collapsed": false,
     "input": [
      "data = data.reshape(50, 20*28)\n",
      "data.shape"
     ],
     "language": "python",
     "metadata": {},
     "outputs": [],
     "prompt_number": 27
    },
    {
     "cell_type": "code",
     "collapsed": false,
     "input": [
      "for dt in np.nditer(data, op_flags=['readwrite']):\n",
      "    if (dt == 1.0):\n",
      "        dt[...] = 0.0"
     ],
     "language": "python",
     "metadata": {},
     "outputs": [],
     "prompt_number": 38
    },
    {
     "cell_type": "code",
     "collapsed": false,
     "input": [
      "#print data[1]"
     ],
     "language": "python",
     "metadata": {},
     "outputs": [],
     "prompt_number": 40
    },
    {
     "cell_type": "code",
     "collapsed": false,
     "input": [
      "imgplot = plt.imshow(data[9].reshape(20,28), cmap=\"gray\")"
     ],
     "language": "python",
     "metadata": {},
     "outputs": [
      {
       "metadata": {},
       "output_type": "display_data",
       "png": "[encoded data removed]",
       "text": [
        "<matplotlib.figure.Figure at 0x7fe51d941d90>"
       ]
      }
     ],
     "prompt_number": 45
    },
    {
     "cell_type": "code",
     "collapsed": false,
     "input": [
      "labelDict = {'E':0.0, 'F':1.0, 'H':2.0, 'I':3.0, 'L':4.0, 'T':5.0}\n",
      "print fileLetters"
     ],
     "language": "python",
     "metadata": {},
     "outputs": [
      {
       "output_type": "stream",
       "stream": "stdout",
       "text": [
        "['L', 'L', 'F', 'F', 'F', 'H', 'F', 'F', 'I', 'F', 'L', 'E', 'H', 'F', 'L', 'I', 'L', 'L', 'E', 'H', 'T', 'F', 'I', 'H', 'I', 'T', 'I', 'T', 'L', 'H', 'E', 'E', 'I', 'I', 'T', 'F', 'H', 'T', 'E', 'H', 'E', 'F', 'L', 'F', 'E', 'F', 'L', 'H', 'T', 'T']\n"
       ]
      }
     ],
     "prompt_number": 47
    },
    {
     "cell_type": "code",
     "collapsed": false,
     "input": [
      "fileLabels = [labelDict[letter] for letter in fileLetters]\n",
      "print fileLabels"
     ],
     "language": "python",
     "metadata": {},
     "outputs": [],
     "prompt_number": 48
    },
    {
     "cell_type": "code",
     "collapsed": false,
     "input": [
      "def vectorizeLabels(label):\n",
      "    vector = np.zeros((6))\n",
      "    vector[label] = 1.0\n",
      "    return vector"
     ],
     "language": "python",
     "metadata": {},
     "outputs": [],
     "prompt_number": 61
    },
    {
     "cell_type": "code",
     "collapsed": false,
     "input": [
      "dataLabels = np.array([vectorizeLabels(label) for label in fileLabels])\n",
      "print dataLabels[0]"
     ],
     "language": "python",
     "metadata": {},
     "outputs": [
      {
       "output_type": "stream",
       "stream": "stdout",
       "text": [
        "[ 0.  0.  0.  0.  1.  0.]\n"
       ]
      }
     ],
     "prompt_number": 62
    },
    {
     "cell_type": "code",
     "collapsed": false,
     "input": [
      "data.shape"
     ],
     "language": "python",
     "metadata": {},
     "outputs": [
      {
       "metadata": {},
       "output_type": "pyout",
       "prompt_number": 63,
       "text": [
        "(50, 560)"
       ]
      }
     ],
     "prompt_number": 63
    },
    {
     "cell_type": "code",
     "collapsed": false,
     "input": [
      "dataLabels.shape"
     ],
     "language": "python",
     "metadata": {},
     "outputs": [
      {
       "metadata": {},
       "output_type": "pyout",
       "prompt_number": 64,
       "text": [
        "(50, 6)"
       ]
      }
     ],
     "prompt_number": 64
    },
    {
     "cell_type": "code",
     "collapsed": false,
     "input": [
      "%load nnutils.py"
     ],
     "language": "python",
     "metadata": {},
     "outputs": [],
     "prompt_number": 67
    },
    {
     "cell_type": "code",
     "collapsed": false,
     "input": [
      "#---------------------------------------------------\n",
      "# Utilities for working with a standard neural net\n",
      "#---------------------------------------------------\n",
      "import numpy as np\n",
      "import numpy.random as random"
     ],
     "language": "python",
     "metadata": {},
     "outputs": [],
     "prompt_number": 68
    },
    {
     "cell_type": "code",
     "collapsed": false,
     "input": [
      "#---------------------------------------------------\n",
      "# A neural net class\n",
      "#---------------------------------------------------\n",
      "class NeuralNet(object):\n",
      "\n",
      "  # Constructor\n",
      "  #   layers: vector of length numLayers containing the\n",
      "  #           the number of neurons in each layer\n",
      "  #   biases: initialized with random numbers except for first layer\n",
      "  #   weights: initialized with random numbers\n",
      "  def __init__(self, layers):\n",
      "\n",
      "    self.numLayers = len(layers)\n",
      "    self.numNeurons = layers\n",
      "    self.biases = [random.randn(layer, 1) for layer in layers[1:]]\n",
      "    self.weights = [random.randn(layer2, layer1) \n",
      "                    for layer1, layer2 in zip(layers[:-1], layers[1:])]\n",
      "    \n",
      "  # The activation function\n",
      "  def activationFunction(xx):\n",
      "\n",
      "    return 1.0/(1.0 + np.exp(-xx))\n",
      "\n",
      "  # Derivative of activation function\n",
      "  def derivActivationFunction(xx):\n",
      "\n",
      "    return activationFunction(xx)*(1.0 - activationFunction(xx))\n",
      "\n",
      "  # The feedforward output computation for the network\n",
      "  #   inputVector: (n, 1) array\n",
      "  #                n = number of inputs to network\n",
      "  #   outputVector: ????\n",
      "  def forwardCompute(self, inputVector):\n",
      "\n",
      "    outputVector = []\n",
      "    for bias, weight in zip(self.biases, self.weights):\n",
      "      xx = np.dot(weight, inputVector) + bias\n",
      "      outputVector = activationFunction(xx)\n",
      "\n",
      "    return outputVector\n",
      "  \n",
      "  # Batch stochastic gradient descent to find minimum of objective function\n",
      "  #   training_data:  [(x1,y1),(x2,y2),....]\n",
      "  #                   where x1, x2, x3, ... are input data vectors\n",
      "  #                         y1, y2, y3, ... are labels\n",
      "  #   max_iterations: number of iterations\n",
      "  #   batch_size:     size of training batch\n",
      "  #   learning_rate:  gradient descent parameter \n",
      "  def batchStochasticGradientDescent(self, training_data, max_iterations, batch_size,\n",
      "                                     learning_rate):\n",
      "\n",
      "    # Get the number of training images\n",
      "    nTrain = len(training_data)\n",
      "\n",
      "    # Loop thru iterations\n",
      "    for it in xrange(max_iterations):\n",
      "\n",
      "      # Shuffle the training data\n",
      "      random.shuffle(training_data)\n",
      "\n",
      "      # Choose subsets of the training data\n",
      "      batches = [ training_data[start:start+batch_size]\n",
      "                  for start in xrange(0, nTrain, batch_size) ]\n",
      "\n",
      "      # Loop thru subsets\n",
      "      for batch in batches:\n",
      "        self.updateBatch(batch, learning_rate)\n",
      "      \n",
      "      print \"Iteration {0} complete\".format(it)\n",
      "\n",
      "  # Partial update of weights and biases using gradient descent\n",
      "  # with back propagation\n",
      "  def updateBatch(self, batch, learning_rate): \n",
      "\n",
      "    # Initialize gradC_w and gradC_b\n",
      "    gradC_w = [np.zeros(w.shape) for w in self.weights]\n",
      "    gradC_b = [np.zeros(b.shape) for b in self.biases]\n",
      "\n",
      "    # Loop through samples in the batch\n",
      "    for xx, yy in batch:\n",
      "\n",
      "      # Compute correction to weights & biases using forward and backprop\n",
      "      delta_gradC_w, delta_gradC_b = self.updateGradient(xx, yy)\n",
      "\n",
      "      # Update the gradients\n",
      "      gradC_w = [grad + delta_grad for grad, delta_grad in zip(gradC_w, delta_gradC_w)]\n",
      "      gradC_b = [grad + delta_grad for grad, delta_grad in zip(gradC_b, delta_gradC_b)]\n",
      "\n",
      "    # Update the weight and biases\n",
      "    self.weights = [ weight - (learning_rate/len(batch))*grad\n",
      "                     for weight, grad in zip(self.weights, gradC_w) ]\n",
      "    self.biases  = [ bias - (learning_rate/len(batch))*grad\n",
      "                     for bias, grad in zip(self.biases, gradC_b) ]\n",
      "\n",
      "  # Forward and then backpropagation to compute the gradient of the objective function\n",
      "  def updateGradient(self, xx, yy):\n",
      "\n",
      "    # Initialize gradC_w and gradC_b\n",
      "    gradC_w = [np.zeros(w.shape) for w in self.weights]\n",
      "    gradC_b = [np.zeros(b.shape) for b in self.biases]\n",
      "\n",
      "    # Compute forward pass through net\n",
      "    # Initial activation value = input value\n",
      "    activationValue = xx\n",
      "    activationValues = [xx]\n",
      "    layerOutputValues = []\n",
      "\n",
      "    # Loop through layers\n",
      "    for weight, bias in zip(self.weights, self.biases):\n",
      "\n",
      "      layerOutputValue = np.dot(weight, inputValue) + bias\n",
      "      layerOutputValues.append(layerOutputValues)\n",
      "\n",
      "      activationValue = activationFunction(layerOutputValue)\n",
      "      activationValues.append(activationValue)\n",
      "      \n",
      "    # Compute backpropagation corrections\n",
      "    # Initial deltas\n",
      "    delta = self.derivOfCostFunction(inputValueList[-1], yy) * derivActivationFunction(layerOutputValues[-1])\n",
      "\n",
      "    gradC_b[-1] = delta\n",
      "    gradC_w[-1] = np.dot(delta, activationValues[-2].transpose())\n",
      "\n",
      "    # Loop backward thru layers\n",
      "    for layer in xrange(2, self.num_layers):\n",
      "\n",
      "      layerOutputValue = layerOutputValues[-layer]\n",
      "      derivActivation = derivActivationFunction(layerOutputValue)\n",
      "  \n",
      "      delta = np.dot(self.weights[-layer + 1].transpose(), delta)*derivActivation\n",
      "\n",
      "      gradC_b[-layer] = delta\n",
      "      gradC_w[-layer] = np.dot(delta, activationValues[-layer-1].transpose())\n",
      "    \n",
      "    # Return updated gradients\n",
      "    return(gradC_w, gradC_b)\n",
      " \n",
      "  # Derivative of the cost function with respect to output values\n",
      "  def derivOfCostFunction(self, xx, yy):\n",
      "\n",
      "    return (xx - yy)"
     ],
     "language": "python",
     "metadata": {},
     "outputs": [],
     "prompt_number": 71
    },
    {
     "cell_type": "code",
     "collapsed": false,
     "input": [
      "net = NeuralNet([20*28, 20, 6])"
     ],
     "language": "python",
     "metadata": {},
     "outputs": [],
     "prompt_number": 72
    },
    {
     "cell_type": "code",
     "collapsed": false,
     "input": [
      "net.weights[1].shape"
     ],
     "language": "python",
     "metadata": {},
     "outputs": [
      {
       "metadata": {},
       "output_type": "pyout",
       "prompt_number": 86,
       "text": [
        "(6, 20)"
       ]
      }
     ],
     "prompt_number": 86
    },
    {
     "cell_type": "code",
     "collapsed": false,
     "input": [],
     "language": "python",
     "metadata": {},
     "outputs": []
    }
   ],
   "metadata": {}
  }
 ]
}